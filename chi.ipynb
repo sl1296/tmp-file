{
 "cells": [
  {
   "cell_type": "code",
   "execution_count": 2,
   "metadata": {},
   "outputs": [],
   "source": [
    "import re\n",
    "from collections import Counter\n",
    "import numpy as np\n",
    "import pandas as pd\n",
    "import math\n",
    "import jieba\n",
    "from collections import defaultdict\n",
    "from tqdm import tqdm\n",
    "import time\n",
    "import os\n",
    "import glob"
   ]
  },
  {
   "cell_type": "code",
   "execution_count": 21,
   "metadata": {},
   "outputs": [],
   "source": [
    "task_list = glob.glob('/mnt/disk1/jiaoyimin/fenlei/*.txt')"
   ]
  },
  {
   "cell_type": "code",
   "execution_count": 22,
   "metadata": {
    "scrolled": true
   },
   "outputs": [],
   "source": [
    "for txt_fn in task_list:\n",
    "    exist_file = os.listdir('/mnt/disk1/jiaoyimin/result_1')\n",
    "    for exist_fn in exist_file:\n",
    "        if exist_fn in txt_fn:\n",
    "            task_list.remove(txt_fn)"
   ]
  },
  {
   "cell_type": "code",
   "execution_count": 23,
   "metadata": {},
   "outputs": [
    {
     "data": {
      "text/plain": [
       "0"
      ]
     },
     "execution_count": 23,
     "metadata": {},
     "output_type": "execute_result"
    }
   ],
   "source": [
    "len(exist_file)"
   ]
  },
  {
   "cell_type": "code",
   "execution_count": 24,
   "metadata": {},
   "outputs": [
    {
     "data": {
      "text/plain": [
       "93"
      ]
     },
     "execution_count": 24,
     "metadata": {},
     "output_type": "execute_result"
    }
   ],
   "source": [
    "len(task_list)"
   ]
  },
  {
   "cell_type": "code",
   "execution_count": 25,
   "metadata": {},
   "outputs": [
    {
     "data": {
      "text/plain": [
       "['/mnt/disk1/jiaoyimin/fenlei/中国医学.txt',\n",
       " '/mnt/disk1/jiaoyimin/fenlei/大学学报(工业技术).txt',\n",
       " '/mnt/disk1/jiaoyimin/fenlei/军事科技.txt',\n",
       " '/mnt/disk1/jiaoyimin/fenlei/党建.txt',\n",
       " '/mnt/disk1/jiaoyimin/fenlei/科研管理.txt',\n",
       " '/mnt/disk1/jiaoyimin/fenlei/地理.txt',\n",
       " '/mnt/disk1/jiaoyimin/fenlei/经济与管理.txt',\n",
       " '/mnt/disk1/jiaoyimin/fenlei/电工技术.txt',\n",
       " '/mnt/disk1/jiaoyimin/fenlei/劳动与人才.txt',\n",
       " '/mnt/disk1/jiaoyimin/fenlei/力学.txt',\n",
       " '/mnt/disk1/jiaoyimin/fenlei/矿业工程.txt',\n",
       " '/mnt/disk1/jiaoyimin/fenlei/历史.txt',\n",
       " '/mnt/disk1/jiaoyimin/fenlei/工业经济.txt',\n",
       " '/mnt/disk1/jiaoyimin/fenlei/林业.txt',\n",
       " '/mnt/disk1/jiaoyimin/fenlei/动力工程.txt',\n",
       " '/mnt/disk1/jiaoyimin/fenlei/逻辑伦理.txt',\n",
       " '/mnt/disk1/jiaoyimin/fenlei/预防医学与卫生学.txt',\n",
       " '/mnt/disk1/jiaoyimin/fenlei/马列主义理论.txt',\n",
       " '/mnt/disk1/jiaoyimin/fenlei/法律.txt',\n",
       " '/mnt/disk1/jiaoyimin/fenlei/贸易经济.txt',\n",
       " '/mnt/disk1/jiaoyimin/fenlei/妇产科学与儿科学.txt',\n",
       " '/mnt/disk1/jiaoyimin/fenlei/内科学.txt',\n",
       " '/mnt/disk1/jiaoyimin/fenlei/农学.txt',\n",
       " '/mnt/disk1/jiaoyimin/fenlei/化学.txt',\n",
       " '/mnt/disk1/jiaoyimin/fenlei/农业工程.txt',\n",
       " '/mnt/disk1/jiaoyimin/fenlei/园艺.txt',\n",
       " '/mnt/disk1/jiaoyimin/fenlei/临床医学.txt',\n",
       " '/mnt/disk1/jiaoyimin/fenlei/航空航天.txt',\n",
       " '/mnt/disk1/jiaoyimin/fenlei/农业基础科学.txt',\n",
       " '/mnt/disk1/jiaoyimin/fenlei/原子能技术.txt',\n",
       " '/mnt/disk1/jiaoyimin/fenlei/农业经济.txt',\n",
       " '/mnt/disk1/jiaoyimin/fenlei/机械与仪表工业.txt',\n",
       " '/mnt/disk1/jiaoyimin/fenlei/农作物.txt',\n",
       " '/mnt/disk1/jiaoyimin/fenlei/皮肤病学与性病学.txt',\n",
       " '/mnt/disk1/jiaoyimin/fenlei/自然科学总论.txt',\n",
       " '/mnt/disk1/jiaoyimin/fenlei/轻工业与手工业.txt',\n",
       " '/mnt/disk1/jiaoyimin/fenlei/化学工业.txt',\n",
       " '/mnt/disk1/jiaoyimin/fenlei/农业科学总论.txt',\n",
       " '/mnt/disk1/jiaoyimin/fenlei/建筑科学.txt',\n",
       " '/mnt/disk1/jiaoyimin/fenlei/人口与民族.txt',\n",
       " '/mnt/disk1/jiaoyimin/fenlei/畜牧兽医.txt',\n",
       " '/mnt/disk1/jiaoyimin/fenlei/少儿教育.txt',\n",
       " '/mnt/disk1/jiaoyimin/fenlei/基础医学.txt',\n",
       " '/mnt/disk1/jiaoyimin/fenlei/社会生活.txt',\n",
       " '/mnt/disk1/jiaoyimin/fenlei/艺术.txt',\n",
       " '/mnt/disk1/jiaoyimin/fenlei/神经病学与精神病学.txt',\n",
       " '/mnt/disk1/jiaoyimin/fenlei/交通旅游经济.txt',\n",
       " '/mnt/disk1/jiaoyimin/fenlei/生物科学.txt',\n",
       " '/mnt/disk1/jiaoyimin/fenlei/邮电经济.txt',\n",
       " '/mnt/disk1/jiaoyimin/fenlei/社会科学理论.txt',\n",
       " '/mnt/disk1/jiaoyimin/fenlei/数学.txt',\n",
       " '/mnt/disk1/jiaoyimin/fenlei/交通运输.txt',\n",
       " '/mnt/disk1/jiaoyimin/fenlei/水产渔业.txt',\n",
       " '/mnt/disk1/jiaoyimin/fenlei/石油与天然气工业.txt',\n",
       " '/mnt/disk1/jiaoyimin/fenlei/金融保险.txt',\n",
       " '/mnt/disk1/jiaoyimin/fenlei/水利工程.txt',\n",
       " '/mnt/disk1/jiaoyimin/fenlei/特种医学.txt',\n",
       " '/mnt/disk1/jiaoyimin/fenlei/语言文字.txt',\n",
       " '/mnt/disk1/jiaoyimin/fenlei/体育.txt',\n",
       " '/mnt/disk1/jiaoyimin/fenlei/大学学报(经济管理).txt',\n",
       " '/mnt/disk1/jiaoyimin/fenlei/图书情报档案.txt',\n",
       " '/mnt/disk1/jiaoyimin/fenlei/外交.txt',\n",
       " '/mnt/disk1/jiaoyimin/fenlei/金属学与金属工艺.txt',\n",
       " '/mnt/disk1/jiaoyimin/fenlei/天文学、地球科学.txt',\n",
       " '/mnt/disk1/jiaoyimin/fenlei/文化.txt',\n",
       " '/mnt/disk1/jiaoyimin/fenlei/文学.txt',\n",
       " '/mnt/disk1/jiaoyimin/fenlei/医疗保健.txt',\n",
       " '/mnt/disk1/jiaoyimin/fenlei/外科学.txt',\n",
       " '/mnt/disk1/jiaoyimin/fenlei/教育.txt',\n",
       " '/mnt/disk1/jiaoyimin/fenlei/五官科学.txt',\n",
       " '/mnt/disk1/jiaoyimin/fenlei/经济学.txt',\n",
       " '/mnt/disk1/jiaoyimin/fenlei/无线电电子学与电信技术.txt',\n",
       " '/mnt/disk1/jiaoyimin/fenlei/心理学.txt',\n",
       " '/mnt/disk1/jiaoyimin/fenlei/物理学.txt',\n",
       " '/mnt/disk1/jiaoyimin/fenlei/新闻出版.txt',\n",
       " '/mnt/disk1/jiaoyimin/fenlei/冶金工业.txt',\n",
       " '/mnt/disk1/jiaoyimin/fenlei/大学学报(农业科学).txt',\n",
       " '/mnt/disk1/jiaoyimin/fenlei/药学.txt',\n",
       " '/mnt/disk1/jiaoyimin/fenlei/一般工业技术.txt',\n",
       " '/mnt/disk1/jiaoyimin/fenlei/哲学.txt',\n",
       " '/mnt/disk1/jiaoyimin/fenlei/政治.txt',\n",
       " '/mnt/disk1/jiaoyimin/fenlei/植物保护.txt',\n",
       " '/mnt/disk1/jiaoyimin/fenlei/医药卫生总论.txt',\n",
       " '/mnt/disk1/jiaoyimin/fenlei/中学生教育.txt',\n",
       " '/mnt/disk1/jiaoyimin/fenlei/肿瘤学.txt',\n",
       " '/mnt/disk1/jiaoyimin/fenlei/宗教.txt',\n",
       " '/mnt/disk1/jiaoyimin/fenlei/自动化技术与计算机技术.txt',\n",
       " '/mnt/disk1/jiaoyimin/fenlei/大学学报(教科文艺).txt',\n",
       " '/mnt/disk1/jiaoyimin/fenlei/大学学报(社会科学).txt',\n",
       " '/mnt/disk1/jiaoyimin/fenlei/大学学报(医药卫生).txt',\n",
       " '/mnt/disk1/jiaoyimin/fenlei/大学学报(哲学政法).txt',\n",
       " '/mnt/disk1/jiaoyimin/fenlei/大学学报(自然科学).txt',\n",
       " '/mnt/disk1/jiaoyimin/fenlei/环境科学与安全科学.txt']"
      ]
     },
     "execution_count": 25,
     "metadata": {},
     "output_type": "execute_result"
    }
   ],
   "source": [
    "task_list # 医药卫生总论.txt 太大了，可能内存不够，不行的话暂时跳过"
   ]
  },
  {
   "cell_type": "code",
   "execution_count": null,
   "metadata": {},
   "outputs": [],
   "source": []
  },
  {
   "cell_type": "code",
   "execution_count": 26,
   "metadata": {},
   "outputs": [],
   "source": [
    "            \n",
    "def load_data(filename, stopwords):\n",
    "\n",
    "    data = []\n",
    "    with open(filename, 'r') as f:\n",
    "        for line in f:\n",
    "            word_list = [x for x in jieba.cut(line.strip(), cut_all=False) if x not in stopwords]\n",
    "            data.append(word_list)\n",
    "    return data\n",
    "\n",
    " \n",
    "    \n",
    "def info_entropy(array):\n",
    "    array = np.asarray(array)\n",
    "    return np.sum(-(array / array.sum() ) * (np.log(array / array.sum())))    \n",
    "\n",
    "def generate_ntuple(input_list, n):\n",
    "    result = []\n",
    "    for i in range(1, n+1):\n",
    "        result.extend(zip(*[input_list[j:] for j in range(i)]))\n",
    "    return result"
   ]
  },
  {
   "cell_type": "code",
   "execution_count": 27,
   "metadata": {},
   "outputs": [],
   "source": [
    "stopwords = '''+-×:!),.:;?]}¢'\"、。〉》」』】〕〗〞︰︱︳﹐､﹒﹔﹕﹖﹗﹚﹜﹞！），．：；？｜｝︴︶︸︺︼︾﹀﹂﹄﹏､～￠々‖•·ˇˉ―--′’”([{£¥'\"‵〈《「『【〔〖（［｛￡￥〝︵︷︹︻︽︿﹁﹃﹙﹛﹝（｛“‘-—_…'''  "
   ]
  },
  {
   "cell_type": "code",
   "execution_count": 28,
   "metadata": {},
   "outputs": [],
   "source": [
    "stopwords1 = open('chinesestopwords.txt', 'r',encoding = 'utf-8')"
   ]
  },
  {
   "cell_type": "code",
   "execution_count": 29,
   "metadata": {},
   "outputs": [],
   "source": [
    "stopwords1= stopwords1.read().splitlines()"
   ]
  },
  {
   "cell_type": "code",
   "execution_count": 5,
   "metadata": {},
   "outputs": [],
   "source": [
    "#检验是否含中文字符\n",
    "def ContainChinese(s):\n",
    "    for ch in s:\n",
    "        if u'\\u4e00' <= ch <= u'\\u9fff':\n",
    "            return True\n",
    "    return False"
   ]
  },
  {
   "cell_type": "code",
   "execution_count": 31,
   "metadata": {},
   "outputs": [
    {
     "name": "stderr",
     "output_type": "stream",
     "text": [
      "\n",
      "  0%|          | 0/93 [00:00<?, ?it/s]\u001b[A"
     ]
    },
    {
     "name": "stdout",
     "output_type": "stream",
     "text": [
      "/mnt/disk1/jiaoyimin/fenlei/中国医学.txt Cut words\n",
      "/mnt/disk1/jiaoyimin/fenlei/中国医学.txt Done Cut\n"
     ]
    },
    {
     "name": "stderr",
     "output_type": "stream",
     "text": [
      "\n",
      "  1%|          | 1/93 [1:20:20<123:12:09, 4820.98s/it]\u001b[A"
     ]
    },
    {
     "name": "stdout",
     "output_type": "stream",
     "text": [
      "/mnt/disk1/jiaoyimin/fenlei/大学学报(工业技术).txt Cut words\n",
      "/mnt/disk1/jiaoyimin/fenlei/大学学报(工业技术).txt Done Cut\n"
     ]
    },
    {
     "name": "stderr",
     "output_type": "stream",
     "text": [
      "\n",
      "  2%|▏         | 2/93 [2:26:06<115:13:18, 4558.23s/it]\u001b[A"
     ]
    },
    {
     "name": "stdout",
     "output_type": "stream",
     "text": [
      "/mnt/disk1/jiaoyimin/fenlei/军事科技.txt Cut words\n",
      "/mnt/disk1/jiaoyimin/fenlei/军事科技.txt Done Cut\n"
     ]
    },
    {
     "name": "stderr",
     "output_type": "stream",
     "text": [
      "\n",
      "  3%|▎         | 3/93 [2:35:17<83:54:13, 3356.16s/it] \u001b[A"
     ]
    },
    {
     "name": "stdout",
     "output_type": "stream",
     "text": [
      "/mnt/disk1/jiaoyimin/fenlei/党建.txt Cut words\n",
      "/mnt/disk1/jiaoyimin/fenlei/党建.txt Done Cut\n"
     ]
    },
    {
     "name": "stderr",
     "output_type": "stream",
     "text": [
      "\n",
      "  4%|▍         | 4/93 [2:44:55<62:22:14, 2522.86s/it]\u001b[A"
     ]
    },
    {
     "name": "stdout",
     "output_type": "stream",
     "text": [
      "/mnt/disk1/jiaoyimin/fenlei/科研管理.txt Cut words\n",
      "/mnt/disk1/jiaoyimin/fenlei/科研管理.txt Done Cut\n"
     ]
    },
    {
     "name": "stderr",
     "output_type": "stream",
     "text": [
      "\n",
      "  5%|▌         | 5/93 [2:56:39<48:19:52, 1977.19s/it]\u001b[A"
     ]
    },
    {
     "name": "stdout",
     "output_type": "stream",
     "text": [
      "/mnt/disk1/jiaoyimin/fenlei/地理.txt Cut words\n",
      "/mnt/disk1/jiaoyimin/fenlei/地理.txt Done Cut\n"
     ]
    },
    {
     "name": "stderr",
     "output_type": "stream",
     "text": [
      "\n",
      "  6%|▋         | 6/93 [2:56:55<33:33:28, 1388.60s/it]\u001b[A"
     ]
    },
    {
     "name": "stdout",
     "output_type": "stream",
     "text": [
      "/mnt/disk1/jiaoyimin/fenlei/经济与管理.txt Cut words\n",
      "/mnt/disk1/jiaoyimin/fenlei/经济与管理.txt Done Cut\n"
     ]
    },
    {
     "name": "stderr",
     "output_type": "stream",
     "text": [
      "\n",
      "  8%|▊         | 7/93 [3:57:47<49:23:41, 2067.69s/it]\u001b[A"
     ]
    },
    {
     "name": "stdout",
     "output_type": "stream",
     "text": [
      "/mnt/disk1/jiaoyimin/fenlei/电工技术.txt Cut words\n",
      "/mnt/disk1/jiaoyimin/fenlei/电工技术.txt Done Cut\n"
     ]
    },
    {
     "name": "stderr",
     "output_type": "stream",
     "text": [
      "\n",
      "  9%|▊         | 8/93 [4:38:29<51:28:11, 2179.90s/it]\u001b[A"
     ]
    },
    {
     "name": "stdout",
     "output_type": "stream",
     "text": [
      "/mnt/disk1/jiaoyimin/fenlei/劳动与人才.txt Cut words\n",
      "/mnt/disk1/jiaoyimin/fenlei/劳动与人才.txt Done Cut\n"
     ]
    },
    {
     "name": "stderr",
     "output_type": "stream",
     "text": [
      "\n",
      " 10%|▉         | 9/93 [4:40:56<36:38:16, 1570.20s/it]\u001b[A"
     ]
    },
    {
     "name": "stdout",
     "output_type": "stream",
     "text": [
      "/mnt/disk1/jiaoyimin/fenlei/力学.txt Cut words\n",
      "/mnt/disk1/jiaoyimin/fenlei/力学.txt Done Cut\n"
     ]
    },
    {
     "name": "stderr",
     "output_type": "stream",
     "text": [
      "\n",
      " 11%|█         | 10/93 [4:45:21<27:10:33, 1178.72s/it]\u001b[A"
     ]
    },
    {
     "name": "stdout",
     "output_type": "stream",
     "text": [
      "/mnt/disk1/jiaoyimin/fenlei/矿业工程.txt Cut words\n",
      "/mnt/disk1/jiaoyimin/fenlei/矿业工程.txt Done Cut\n"
     ]
    },
    {
     "name": "stderr",
     "output_type": "stream",
     "text": [
      "\n",
      " 12%|█▏        | 11/93 [5:15:28<31:08:16, 1367.03s/it]\u001b[A"
     ]
    },
    {
     "name": "stdout",
     "output_type": "stream",
     "text": [
      "/mnt/disk1/jiaoyimin/fenlei/历史.txt Cut words\n",
      "/mnt/disk1/jiaoyimin/fenlei/历史.txt Done Cut\n"
     ]
    },
    {
     "name": "stderr",
     "output_type": "stream",
     "text": [
      "\n",
      " 13%|█▎        | 12/93 [5:22:59<24:34:40, 1092.35s/it]\u001b[A"
     ]
    },
    {
     "name": "stdout",
     "output_type": "stream",
     "text": [
      "/mnt/disk1/jiaoyimin/fenlei/工业经济.txt Cut words\n",
      "/mnt/disk1/jiaoyimin/fenlei/工业经济.txt Done Cut\n"
     ]
    },
    {
     "name": "stderr",
     "output_type": "stream",
     "text": [
      "\n",
      " 14%|█▍        | 13/93 [5:24:39<17:39:27, 794.60s/it] \u001b[A"
     ]
    },
    {
     "name": "stdout",
     "output_type": "stream",
     "text": [
      "/mnt/disk1/jiaoyimin/fenlei/林业.txt Cut words\n",
      "/mnt/disk1/jiaoyimin/fenlei/林业.txt Done Cut\n"
     ]
    },
    {
     "name": "stderr",
     "output_type": "stream",
     "text": [
      "\n",
      " 15%|█▌        | 14/93 [5:43:09<19:30:55, 889.30s/it]\u001b[A"
     ]
    },
    {
     "name": "stdout",
     "output_type": "stream",
     "text": [
      "/mnt/disk1/jiaoyimin/fenlei/动力工程.txt Cut words\n",
      "/mnt/disk1/jiaoyimin/fenlei/动力工程.txt Done Cut\n"
     ]
    },
    {
     "name": "stderr",
     "output_type": "stream",
     "text": [
      "\n",
      " 16%|█▌        | 15/93 [5:56:39<18:45:02, 865.42s/it]\u001b[A"
     ]
    },
    {
     "name": "stdout",
     "output_type": "stream",
     "text": [
      "/mnt/disk1/jiaoyimin/fenlei/逻辑伦理.txt Cut words\n",
      "/mnt/disk1/jiaoyimin/fenlei/逻辑伦理.txt Done Cut\n"
     ]
    },
    {
     "name": "stderr",
     "output_type": "stream",
     "text": [
      "\n",
      " 17%|█▋        | 16/93 [5:58:18<13:35:21, 635.34s/it]\u001b[A"
     ]
    },
    {
     "name": "stdout",
     "output_type": "stream",
     "text": [
      "/mnt/disk1/jiaoyimin/fenlei/预防医学与卫生学.txt Cut words\n",
      "/mnt/disk1/jiaoyimin/fenlei/预防医学与卫生学.txt Done Cut\n"
     ]
    },
    {
     "name": "stderr",
     "output_type": "stream",
     "text": [
      "\n",
      " 18%|█▊        | 17/93 [7:54:41<53:37:12, 2539.91s/it]\u001b[A"
     ]
    },
    {
     "name": "stdout",
     "output_type": "stream",
     "text": [
      "/mnt/disk1/jiaoyimin/fenlei/马列主义理论.txt Cut words\n",
      "/mnt/disk1/jiaoyimin/fenlei/马列主义理论.txt Done Cut\n"
     ]
    },
    {
     "name": "stderr",
     "output_type": "stream",
     "text": [
      "\n",
      " 19%|█▉        | 18/93 [7:55:02<37:10:08, 1784.11s/it]\u001b[A"
     ]
    },
    {
     "name": "stdout",
     "output_type": "stream",
     "text": [
      "/mnt/disk1/jiaoyimin/fenlei/法律.txt Cut words\n",
      "/mnt/disk1/jiaoyimin/fenlei/法律.txt Done Cut\n"
     ]
    },
    {
     "name": "stderr",
     "output_type": "stream",
     "text": [
      "\n",
      " 20%|██        | 19/93 [8:07:23<30:14:29, 1471.21s/it]\u001b[A"
     ]
    },
    {
     "name": "stdout",
     "output_type": "stream",
     "text": [
      "/mnt/disk1/jiaoyimin/fenlei/贸易经济.txt Cut words\n",
      "/mnt/disk1/jiaoyimin/fenlei/贸易经济.txt Done Cut\n"
     ]
    },
    {
     "name": "stderr",
     "output_type": "stream",
     "text": [
      "\n",
      " 22%|██▏       | 20/93 [8:50:46<36:42:52, 1810.58s/it]\u001b[A"
     ]
    },
    {
     "name": "stdout",
     "output_type": "stream",
     "text": [
      "/mnt/disk1/jiaoyimin/fenlei/妇产科学与儿科学.txt Cut words\n",
      "/mnt/disk1/jiaoyimin/fenlei/妇产科学与儿科学.txt Done Cut\n"
     ]
    },
    {
     "name": "stderr",
     "output_type": "stream",
     "text": [
      "\n",
      " 23%|██▎       | 21/93 [9:13:43<33:36:42, 1680.58s/it]\u001b[A"
     ]
    },
    {
     "name": "stdout",
     "output_type": "stream",
     "text": [
      "/mnt/disk1/jiaoyimin/fenlei/内科学.txt Cut words\n",
      "/mnt/disk1/jiaoyimin/fenlei/内科学.txt Done Cut\n"
     ]
    },
    {
     "name": "stderr",
     "output_type": "stream",
     "text": [
      "\n",
      " 24%|██▎       | 22/93 [10:32:26<51:08:44, 2593.30s/it]\u001b[A"
     ]
    },
    {
     "name": "stdout",
     "output_type": "stream",
     "text": [
      "/mnt/disk1/jiaoyimin/fenlei/农学.txt Cut words\n",
      "/mnt/disk1/jiaoyimin/fenlei/农学.txt Done Cut\n"
     ]
    },
    {
     "name": "stderr",
     "output_type": "stream",
     "text": [
      "\n",
      " 25%|██▍       | 23/93 [10:35:59<36:32:28, 1879.27s/it]\u001b[A"
     ]
    },
    {
     "name": "stdout",
     "output_type": "stream",
     "text": [
      "/mnt/disk1/jiaoyimin/fenlei/化学.txt Cut words\n",
      "/mnt/disk1/jiaoyimin/fenlei/化学.txt Done Cut\n"
     ]
    },
    {
     "name": "stderr",
     "output_type": "stream",
     "text": [
      "\n",
      " 26%|██▌       | 24/93 [10:59:59<33:29:30, 1747.39s/it]\u001b[A"
     ]
    },
    {
     "name": "stdout",
     "output_type": "stream",
     "text": [
      "/mnt/disk1/jiaoyimin/fenlei/农业工程.txt Cut words\n",
      "/mnt/disk1/jiaoyimin/fenlei/农业工程.txt Done Cut\n"
     ]
    },
    {
     "name": "stderr",
     "output_type": "stream",
     "text": [
      "\n",
      " 27%|██▋       | 25/93 [11:26:38<32:09:59, 1702.94s/it]\u001b[A"
     ]
    },
    {
     "name": "stdout",
     "output_type": "stream",
     "text": [
      "/mnt/disk1/jiaoyimin/fenlei/园艺.txt Cut words\n",
      "/mnt/disk1/jiaoyimin/fenlei/园艺.txt Done Cut\n"
     ]
    },
    {
     "name": "stderr",
     "output_type": "stream",
     "text": [
      "\n",
      " 28%|██▊       | 26/93 [11:45:07<28:22:39, 1524.77s/it]\u001b[A"
     ]
    },
    {
     "name": "stdout",
     "output_type": "stream",
     "text": [
      "/mnt/disk1/jiaoyimin/fenlei/临床医学.txt Cut words\n",
      "/mnt/disk1/jiaoyimin/fenlei/临床医学.txt Done Cut\n"
     ]
    },
    {
     "name": "stderr",
     "output_type": "stream",
     "text": [
      "\n",
      " 29%|██▉       | 27/93 [14:21:50<71:17:01, 3888.21s/it]\u001b[A"
     ]
    },
    {
     "name": "stdout",
     "output_type": "stream",
     "text": [
      "/mnt/disk1/jiaoyimin/fenlei/航空航天.txt Cut words\n",
      "/mnt/disk1/jiaoyimin/fenlei/航空航天.txt Done Cut\n"
     ]
    },
    {
     "name": "stderr",
     "output_type": "stream",
     "text": [
      "\n",
      " 30%|███       | 28/93 [14:37:26<54:12:46, 3002.56s/it]\u001b[A"
     ]
    },
    {
     "name": "stdout",
     "output_type": "stream",
     "text": [
      "/mnt/disk1/jiaoyimin/fenlei/农业基础科学.txt Cut words\n",
      "/mnt/disk1/jiaoyimin/fenlei/农业基础科学.txt Done Cut\n"
     ]
    },
    {
     "name": "stderr",
     "output_type": "stream",
     "text": [
      "\n",
      " 31%|███       | 29/93 [14:53:36<42:32:26, 2392.91s/it]\u001b[A"
     ]
    },
    {
     "name": "stdout",
     "output_type": "stream",
     "text": [
      "/mnt/disk1/jiaoyimin/fenlei/原子能技术.txt Cut words\n",
      "/mnt/disk1/jiaoyimin/fenlei/原子能技术.txt Done Cut\n"
     ]
    },
    {
     "name": "stderr",
     "output_type": "stream",
     "text": [
      "\n",
      " 32%|███▏      | 30/93 [14:58:31<30:51:33, 1763.39s/it]\u001b[A"
     ]
    },
    {
     "name": "stdout",
     "output_type": "stream",
     "text": [
      "/mnt/disk1/jiaoyimin/fenlei/农业经济.txt Cut words\n",
      "/mnt/disk1/jiaoyimin/fenlei/农业经济.txt Done Cut\n"
     ]
    },
    {
     "name": "stderr",
     "output_type": "stream",
     "text": [
      "\n",
      " 33%|███▎      | 31/93 [15:08:33<24:22:08, 1414.98s/it]\u001b[A"
     ]
    },
    {
     "name": "stdout",
     "output_type": "stream",
     "text": [
      "/mnt/disk1/jiaoyimin/fenlei/机械与仪表工业.txt Cut words\n",
      "/mnt/disk1/jiaoyimin/fenlei/机械与仪表工业.txt Done Cut\n"
     ]
    },
    {
     "name": "stderr",
     "output_type": "stream",
     "text": [
      "\n",
      " 34%|███▍      | 32/93 [15:46:45<28:26:02, 1678.07s/it]\u001b[A"
     ]
    },
    {
     "name": "stdout",
     "output_type": "stream",
     "text": [
      "/mnt/disk1/jiaoyimin/fenlei/农作物.txt Cut words\n",
      "/mnt/disk1/jiaoyimin/fenlei/农作物.txt Done Cut\n"
     ]
    },
    {
     "name": "stderr",
     "output_type": "stream",
     "text": [
      "\n",
      " 35%|███▌      | 33/93 [16:01:05<23:52:42, 1432.71s/it]\u001b[A"
     ]
    },
    {
     "name": "stdout",
     "output_type": "stream",
     "text": [
      "/mnt/disk1/jiaoyimin/fenlei/皮肤病学与性病学.txt Cut words\n",
      "/mnt/disk1/jiaoyimin/fenlei/皮肤病学与性病学.txt Done Cut\n"
     ]
    },
    {
     "name": "stderr",
     "output_type": "stream",
     "text": [
      "\n",
      " 37%|███▋      | 34/93 [16:08:09<18:31:17, 1130.12s/it]\u001b[A"
     ]
    },
    {
     "name": "stdout",
     "output_type": "stream",
     "text": [
      "/mnt/disk1/jiaoyimin/fenlei/自然科学总论.txt Cut words\n",
      "/mnt/disk1/jiaoyimin/fenlei/自然科学总论.txt Done Cut\n"
     ]
    },
    {
     "name": "stderr",
     "output_type": "stream",
     "text": [
      "\n",
      " 38%|███▊      | 35/93 [17:30:54<36:44:33, 2280.58s/it]\u001b[A"
     ]
    },
    {
     "name": "stdout",
     "output_type": "stream",
     "text": [
      "/mnt/disk1/jiaoyimin/fenlei/轻工业与手工业.txt Cut words\n",
      "/mnt/disk1/jiaoyimin/fenlei/轻工业与手工业.txt Done Cut\n"
     ]
    },
    {
     "name": "stderr",
     "output_type": "stream",
     "text": [
      "\n",
      " 39%|███▊      | 36/93 [18:20:52<39:30:56, 2495.73s/it]\u001b[A"
     ]
    },
    {
     "name": "stdout",
     "output_type": "stream",
     "text": [
      "/mnt/disk1/jiaoyimin/fenlei/化学工业.txt Cut words\n",
      "/mnt/disk1/jiaoyimin/fenlei/化学工业.txt Done Cut\n"
     ]
    },
    {
     "name": "stderr",
     "output_type": "stream",
     "text": [
      "\n",
      " 40%|███▉      | 37/93 [19:20:03<43:44:51, 2812.35s/it]\u001b[A"
     ]
    },
    {
     "name": "stdout",
     "output_type": "stream",
     "text": [
      "/mnt/disk1/jiaoyimin/fenlei/农业科学总论.txt Cut words\n",
      "/mnt/disk1/jiaoyimin/fenlei/农业科学总论.txt Done Cut\n"
     ]
    },
    {
     "name": "stderr",
     "output_type": "stream",
     "text": [
      "\n",
      " 41%|████      | 38/93 [20:42:24<52:43:25, 3451.02s/it]\u001b[A"
     ]
    },
    {
     "name": "stdout",
     "output_type": "stream",
     "text": [
      "/mnt/disk1/jiaoyimin/fenlei/建筑科学.txt Cut words\n",
      "/mnt/disk1/jiaoyimin/fenlei/建筑科学.txt Done Cut\n"
     ]
    },
    {
     "name": "stderr",
     "output_type": "stream",
     "text": [
      "\n",
      " 42%|████▏     | 39/93 [21:45:43<53:19:41, 3555.22s/it]\u001b[A"
     ]
    },
    {
     "name": "stdout",
     "output_type": "stream",
     "text": [
      "/mnt/disk1/jiaoyimin/fenlei/人口与民族.txt Cut words\n",
      "/mnt/disk1/jiaoyimin/fenlei/人口与民族.txt Done Cut\n"
     ]
    },
    {
     "name": "stderr",
     "output_type": "stream",
     "text": [
      "\n",
      " 43%|████▎     | 40/93 [21:50:01<37:46:41, 2566.06s/it]\u001b[A"
     ]
    },
    {
     "name": "stdout",
     "output_type": "stream",
     "text": [
      "/mnt/disk1/jiaoyimin/fenlei/畜牧兽医.txt Cut words\n",
      "/mnt/disk1/jiaoyimin/fenlei/畜牧兽医.txt Done Cut\n"
     ]
    },
    {
     "name": "stderr",
     "output_type": "stream",
     "text": [
      "\n",
      " 44%|████▍     | 41/93 [22:39:46<38:53:02, 2691.98s/it]\u001b[A"
     ]
    },
    {
     "name": "stdout",
     "output_type": "stream",
     "text": [
      "/mnt/disk1/jiaoyimin/fenlei/少儿教育.txt Cut words\n",
      "/mnt/disk1/jiaoyimin/fenlei/少儿教育.txt Done Cut\n"
     ]
    },
    {
     "name": "stderr",
     "output_type": "stream",
     "text": [
      "\n",
      " 45%|████▌     | 42/93 [22:40:42<26:55:53, 1901.06s/it]\u001b[A"
     ]
    },
    {
     "name": "stdout",
     "output_type": "stream",
     "text": [
      "/mnt/disk1/jiaoyimin/fenlei/基础医学.txt Cut words\n",
      "/mnt/disk1/jiaoyimin/fenlei/基础医学.txt Done Cut\n"
     ]
    },
    {
     "name": "stderr",
     "output_type": "stream",
     "text": [
      "\n",
      " 46%|████▌     | 43/93 [23:23:51<29:16:06, 2107.34s/it]\u001b[A"
     ]
    },
    {
     "name": "stdout",
     "output_type": "stream",
     "text": [
      "/mnt/disk1/jiaoyimin/fenlei/社会生活.txt Cut words\n",
      "/mnt/disk1/jiaoyimin/fenlei/社会生活.txt Done Cut\n"
     ]
    },
    {
     "name": "stderr",
     "output_type": "stream",
     "text": [
      "\n",
      " 47%|████▋     | 44/93 [23:25:49<20:33:38, 1510.57s/it]\u001b[A"
     ]
    },
    {
     "name": "stdout",
     "output_type": "stream",
     "text": [
      "/mnt/disk1/jiaoyimin/fenlei/艺术.txt Cut words\n",
      "/mnt/disk1/jiaoyimin/fenlei/艺术.txt Done Cut\n"
     ]
    },
    {
     "name": "stderr",
     "output_type": "stream",
     "text": [
      "\n",
      " 48%|████▊     | 45/93 [23:43:16<18:17:10, 1371.46s/it]\u001b[A"
     ]
    },
    {
     "name": "stdout",
     "output_type": "stream",
     "text": [
      "/mnt/disk1/jiaoyimin/fenlei/神经病学与精神病学.txt Cut words\n",
      "/mnt/disk1/jiaoyimin/fenlei/神经病学与精神病学.txt Done Cut\n"
     ]
    },
    {
     "name": "stderr",
     "output_type": "stream",
     "text": [
      "\n",
      " 49%|████▉     | 46/93 [24:06:02<17:53:04, 1369.89s/it]\u001b[A"
     ]
    },
    {
     "name": "stdout",
     "output_type": "stream",
     "text": [
      "/mnt/disk1/jiaoyimin/fenlei/交通旅游经济.txt Cut words\n",
      "/mnt/disk1/jiaoyimin/fenlei/交通旅游经济.txt Done Cut\n"
     ]
    },
    {
     "name": "stderr",
     "output_type": "stream",
     "text": [
      "\n",
      " 51%|█████     | 47/93 [24:07:52<12:40:35, 992.08s/it] \u001b[A"
     ]
    },
    {
     "name": "stdout",
     "output_type": "stream",
     "text": [
      "/mnt/disk1/jiaoyimin/fenlei/生物科学.txt Cut words\n",
      "/mnt/disk1/jiaoyimin/fenlei/生物科学.txt Done Cut\n"
     ]
    },
    {
     "name": "stderr",
     "output_type": "stream",
     "text": [
      "\n",
      " 52%|█████▏    | 48/93 [24:41:42<16:17:35, 1303.45s/it]\u001b[A"
     ]
    },
    {
     "name": "stdout",
     "output_type": "stream",
     "text": [
      "/mnt/disk1/jiaoyimin/fenlei/邮电经济.txt Cut words\n",
      "/mnt/disk1/jiaoyimin/fenlei/邮电经济.txt Done Cut\n"
     ]
    },
    {
     "name": "stderr",
     "output_type": "stream",
     "text": [
      "\n",
      " 53%|█████▎    | 49/93 [24:42:04<11:13:49, 918.86s/it] \u001b[A"
     ]
    },
    {
     "name": "stdout",
     "output_type": "stream",
     "text": [
      "/mnt/disk1/jiaoyimin/fenlei/社会科学理论.txt Cut words\n",
      "/mnt/disk1/jiaoyimin/fenlei/社会科学理论.txt Done Cut\n"
     ]
    },
    {
     "name": "stderr",
     "output_type": "stream",
     "text": [
      "\n",
      " 54%|█████▍    | 50/93 [25:42:16<20:37:34, 1726.86s/it]\u001b[A"
     ]
    },
    {
     "name": "stdout",
     "output_type": "stream",
     "text": [
      "/mnt/disk1/jiaoyimin/fenlei/数学.txt Cut words\n",
      "/mnt/disk1/jiaoyimin/fenlei/数学.txt Done Cut\n"
     ]
    },
    {
     "name": "stderr",
     "output_type": "stream",
     "text": [
      "\n",
      " 55%|█████▍    | 51/93 [25:51:13<15:58:59, 1369.98s/it]\u001b[A"
     ]
    },
    {
     "name": "stdout",
     "output_type": "stream",
     "text": [
      "/mnt/disk1/jiaoyimin/fenlei/交通运输.txt Cut words\n",
      "/mnt/disk1/jiaoyimin/fenlei/交通运输.txt Done Cut\n"
     ]
    },
    {
     "name": "stderr",
     "output_type": "stream",
     "text": [
      "\n",
      " 56%|█████▌    | 52/93 [26:39:22<20:47:24, 1825.48s/it]\u001b[A"
     ]
    },
    {
     "name": "stdout",
     "output_type": "stream",
     "text": [
      "/mnt/disk1/jiaoyimin/fenlei/水产渔业.txt Cut words\n",
      "/mnt/disk1/jiaoyimin/fenlei/水产渔业.txt Done Cut\n"
     ]
    },
    {
     "name": "stderr",
     "output_type": "stream",
     "text": [
      "\n",
      " 57%|█████▋    | 53/93 [26:45:44<15:28:28, 1392.71s/it]\u001b[A"
     ]
    },
    {
     "name": "stdout",
     "output_type": "stream",
     "text": [
      "/mnt/disk1/jiaoyimin/fenlei/石油与天然气工业.txt Cut words\n",
      "/mnt/disk1/jiaoyimin/fenlei/石油与天然气工业.txt Done Cut\n"
     ]
    },
    {
     "name": "stderr",
     "output_type": "stream",
     "text": [
      "\n",
      " 58%|█████▊    | 54/93 [27:17:32<16:45:42, 1547.24s/it]\u001b[A"
     ]
    },
    {
     "name": "stdout",
     "output_type": "stream",
     "text": [
      "/mnt/disk1/jiaoyimin/fenlei/金融保险.txt Cut words\n",
      "/mnt/disk1/jiaoyimin/fenlei/金融保险.txt Done Cut\n"
     ]
    },
    {
     "name": "stderr",
     "output_type": "stream",
     "text": [
      "\n",
      " 59%|█████▉    | 55/93 [27:39:29<15:36:05, 1478.04s/it]\u001b[A"
     ]
    },
    {
     "name": "stdout",
     "output_type": "stream",
     "text": [
      "/mnt/disk1/jiaoyimin/fenlei/水利工程.txt Cut words\n",
      "/mnt/disk1/jiaoyimin/fenlei/水利工程.txt Done Cut\n"
     ]
    },
    {
     "name": "stderr",
     "output_type": "stream",
     "text": [
      "\n",
      " 60%|██████    | 56/93 [28:06:05<15:33:18, 1513.48s/it]\u001b[A"
     ]
    },
    {
     "name": "stdout",
     "output_type": "stream",
     "text": [
      "/mnt/disk1/jiaoyimin/fenlei/特种医学.txt Cut words\n",
      "/mnt/disk1/jiaoyimin/fenlei/特种医学.txt Done Cut\n"
     ]
    },
    {
     "name": "stderr",
     "output_type": "stream",
     "text": [
      "\n",
      " 61%|██████▏   | 57/93 [28:29:43<14:50:59, 1484.98s/it]\u001b[A"
     ]
    },
    {
     "name": "stdout",
     "output_type": "stream",
     "text": [
      "/mnt/disk1/jiaoyimin/fenlei/语言文字.txt Cut words\n",
      "/mnt/disk1/jiaoyimin/fenlei/语言文字.txt Done Cut\n"
     ]
    },
    {
     "name": "stderr",
     "output_type": "stream",
     "text": [
      "\n",
      " 62%|██████▏   | 58/93 [28:38:18<11:36:24, 1193.84s/it]\u001b[A"
     ]
    },
    {
     "name": "stdout",
     "output_type": "stream",
     "text": [
      "/mnt/disk1/jiaoyimin/fenlei/体育.txt Cut words\n",
      "/mnt/disk1/jiaoyimin/fenlei/体育.txt Done Cut\n"
     ]
    },
    {
     "name": "stderr",
     "output_type": "stream",
     "text": [
      "\n",
      " 63%|██████▎   | 59/93 [28:47:31<9:27:31, 1001.50s/it] \u001b[A"
     ]
    },
    {
     "name": "stdout",
     "output_type": "stream",
     "text": [
      "/mnt/disk1/jiaoyimin/fenlei/大学学报(经济管理).txt Cut words\n",
      "/mnt/disk1/jiaoyimin/fenlei/大学学报(经济管理).txt Done Cut\n"
     ]
    },
    {
     "name": "stderr",
     "output_type": "stream",
     "text": [
      "\n",
      " 65%|██████▍   | 60/93 [29:01:41<8:45:52, 956.13s/it] \u001b[A"
     ]
    },
    {
     "name": "stdout",
     "output_type": "stream",
     "text": [
      "/mnt/disk1/jiaoyimin/fenlei/图书情报档案.txt Cut words\n",
      "/mnt/disk1/jiaoyimin/fenlei/图书情报档案.txt Done Cut\n"
     ]
    },
    {
     "name": "stderr",
     "output_type": "stream",
     "text": [
      "\n",
      " 66%|██████▌   | 61/93 [29:19:08<8:44:24, 983.27s/it]\u001b[A"
     ]
    },
    {
     "name": "stdout",
     "output_type": "stream",
     "text": [
      "/mnt/disk1/jiaoyimin/fenlei/外交.txt Cut words\n",
      "/mnt/disk1/jiaoyimin/fenlei/外交.txt Done Cut\n"
     ]
    },
    {
     "name": "stderr",
     "output_type": "stream",
     "text": [
      "\n",
      " 67%|██████▋   | 62/93 [29:20:09<6:05:11, 706.83s/it]\u001b[A"
     ]
    },
    {
     "name": "stdout",
     "output_type": "stream",
     "text": [
      "/mnt/disk1/jiaoyimin/fenlei/金属学与金属工艺.txt Cut words\n",
      "/mnt/disk1/jiaoyimin/fenlei/金属学与金属工艺.txt Done Cut\n"
     ]
    },
    {
     "name": "stderr",
     "output_type": "stream",
     "text": [
      "\n",
      " 68%|██████▊   | 63/93 [29:47:54<8:17:01, 994.04s/it]\u001b[A"
     ]
    },
    {
     "name": "stdout",
     "output_type": "stream",
     "text": [
      "/mnt/disk1/jiaoyimin/fenlei/天文学、地球科学.txt Cut words\n",
      "/mnt/disk1/jiaoyimin/fenlei/天文学、地球科学.txt Done Cut\n"
     ]
    },
    {
     "name": "stderr",
     "output_type": "stream",
     "text": [
      "\n",
      " 69%|██████▉   | 64/93 [31:03:28<16:33:46, 2056.07s/it]\u001b[A"
     ]
    },
    {
     "name": "stdout",
     "output_type": "stream",
     "text": [
      "/mnt/disk1/jiaoyimin/fenlei/文化.txt Cut words\n",
      "/mnt/disk1/jiaoyimin/fenlei/文化.txt Done Cut\n"
     ]
    },
    {
     "name": "stderr",
     "output_type": "stream",
     "text": [
      "\n",
      " 70%|██████▉   | 65/93 [31:07:21<11:44:21, 1509.34s/it]\u001b[A"
     ]
    },
    {
     "name": "stdout",
     "output_type": "stream",
     "text": [
      "/mnt/disk1/jiaoyimin/fenlei/文学.txt Cut words\n",
      "/mnt/disk1/jiaoyimin/fenlei/文学.txt Done Cut\n"
     ]
    },
    {
     "name": "stderr",
     "output_type": "stream",
     "text": [
      "\n",
      " 71%|███████   | 66/93 [31:25:55<10:25:44, 1390.52s/it]\u001b[A"
     ]
    },
    {
     "name": "stdout",
     "output_type": "stream",
     "text": [
      "/mnt/disk1/jiaoyimin/fenlei/医疗保健.txt Cut words\n",
      "/mnt/disk1/jiaoyimin/fenlei/医疗保健.txt Done Cut\n"
     ]
    },
    {
     "name": "stderr",
     "output_type": "stream",
     "text": [
      "\n",
      " 72%|███████▏  | 67/93 [31:36:36<8:25:10, 1165.79s/it] \u001b[A"
     ]
    },
    {
     "name": "stdout",
     "output_type": "stream",
     "text": [
      "/mnt/disk1/jiaoyimin/fenlei/外科学.txt Cut words\n",
      "/mnt/disk1/jiaoyimin/fenlei/外科学.txt Done Cut\n"
     ]
    },
    {
     "name": "stderr",
     "output_type": "stream",
     "text": [
      "\n",
      " 73%|███████▎  | 68/93 [33:01:19<16:15:22, 2340.89s/it]\u001b[A"
     ]
    },
    {
     "name": "stdout",
     "output_type": "stream",
     "text": [
      "/mnt/disk1/jiaoyimin/fenlei/教育.txt Cut words\n",
      "/mnt/disk1/jiaoyimin/fenlei/教育.txt Done Cut\n"
     ]
    },
    {
     "name": "stderr",
     "output_type": "stream",
     "text": [
      "\n",
      " 74%|███████▍  | 69/93 [34:08:54<19:02:05, 2855.23s/it]\u001b[A"
     ]
    },
    {
     "name": "stdout",
     "output_type": "stream",
     "text": [
      "/mnt/disk1/jiaoyimin/fenlei/五官科学.txt Cut words\n",
      "/mnt/disk1/jiaoyimin/fenlei/五官科学.txt Done Cut\n"
     ]
    },
    {
     "name": "stderr",
     "output_type": "stream",
     "text": [
      "\n",
      " 75%|███████▌  | 70/93 [34:40:31<16:24:14, 2567.57s/it]\u001b[A"
     ]
    },
    {
     "name": "stdout",
     "output_type": "stream",
     "text": [
      "/mnt/disk1/jiaoyimin/fenlei/经济学.txt Cut words\n",
      "/mnt/disk1/jiaoyimin/fenlei/经济学.txt Done Cut\n"
     ]
    },
    {
     "name": "stderr",
     "output_type": "stream",
     "text": [
      "\n",
      " 76%|███████▋  | 71/93 [35:23:33<15:43:01, 2571.90s/it]\u001b[A"
     ]
    },
    {
     "name": "stdout",
     "output_type": "stream",
     "text": [
      "/mnt/disk1/jiaoyimin/fenlei/无线电电子学与电信技术.txt Cut words\n",
      "/mnt/disk1/jiaoyimin/fenlei/无线电电子学与电信技术.txt Done Cut\n"
     ]
    },
    {
     "name": "stderr",
     "output_type": "stream",
     "text": [
      "\n",
      " 77%|███████▋  | 72/93 [36:25:36<17:01:05, 2917.38s/it]\u001b[A"
     ]
    },
    {
     "name": "stdout",
     "output_type": "stream",
     "text": [
      "/mnt/disk1/jiaoyimin/fenlei/心理学.txt Cut words\n",
      "/mnt/disk1/jiaoyimin/fenlei/心理学.txt Done Cut\n"
     ]
    },
    {
     "name": "stderr",
     "output_type": "stream",
     "text": [
      "\n",
      " 78%|███████▊  | 73/93 [36:28:24<11:37:30, 2092.54s/it]\u001b[A"
     ]
    },
    {
     "name": "stdout",
     "output_type": "stream",
     "text": [
      "/mnt/disk1/jiaoyimin/fenlei/物理学.txt Cut words\n",
      "/mnt/disk1/jiaoyimin/fenlei/物理学.txt Done Cut\n"
     ]
    },
    {
     "name": "stderr",
     "output_type": "stream",
     "text": [
      "\n",
      " 80%|███████▉  | 74/93 [36:46:56<9:29:27, 1798.27s/it] \u001b[A"
     ]
    },
    {
     "name": "stdout",
     "output_type": "stream",
     "text": [
      "/mnt/disk1/jiaoyimin/fenlei/新闻出版.txt Cut words\n",
      "/mnt/disk1/jiaoyimin/fenlei/新闻出版.txt Done Cut\n"
     ]
    },
    {
     "name": "stderr",
     "output_type": "stream",
     "text": [
      "\n",
      " 81%|████████  | 75/93 [37:03:31<7:47:15, 1557.52s/it]\u001b[A"
     ]
    },
    {
     "name": "stdout",
     "output_type": "stream",
     "text": [
      "/mnt/disk1/jiaoyimin/fenlei/冶金工业.txt Cut words\n",
      "/mnt/disk1/jiaoyimin/fenlei/冶金工业.txt Done Cut\n"
     ]
    },
    {
     "name": "stderr",
     "output_type": "stream",
     "text": [
      "\n",
      " 82%|████████▏ | 76/93 [37:19:13<6:28:58, 1372.83s/it]\u001b[A"
     ]
    },
    {
     "name": "stdout",
     "output_type": "stream",
     "text": [
      "/mnt/disk1/jiaoyimin/fenlei/大学学报(农业科学).txt Cut words\n",
      "/mnt/disk1/jiaoyimin/fenlei/大学学报(农业科学).txt Done Cut\n"
     ]
    },
    {
     "name": "stderr",
     "output_type": "stream",
     "text": [
      "\n",
      " 83%|████████▎ | 77/93 [37:42:36<6:08:27, 1381.73s/it]\u001b[A"
     ]
    },
    {
     "name": "stdout",
     "output_type": "stream",
     "text": [
      "/mnt/disk1/jiaoyimin/fenlei/药学.txt Cut words\n",
      "/mnt/disk1/jiaoyimin/fenlei/药学.txt Done Cut\n"
     ]
    },
    {
     "name": "stderr",
     "output_type": "stream",
     "text": [
      "\n",
      " 84%|████████▍ | 78/93 [38:33:26<7:50:32, 1882.17s/it]\u001b[A"
     ]
    },
    {
     "name": "stdout",
     "output_type": "stream",
     "text": [
      "/mnt/disk1/jiaoyimin/fenlei/一般工业技术.txt Cut words\n",
      "/mnt/disk1/jiaoyimin/fenlei/一般工业技术.txt Done Cut\n"
     ]
    },
    {
     "name": "stderr",
     "output_type": "stream",
     "text": [
      "\n",
      " 85%|████████▍ | 79/93 [39:07:37<7:31:02, 1933.02s/it]\u001b[A"
     ]
    },
    {
     "name": "stdout",
     "output_type": "stream",
     "text": [
      "/mnt/disk1/jiaoyimin/fenlei/哲学.txt Cut words\n",
      "/mnt/disk1/jiaoyimin/fenlei/哲学.txt Done Cut\n"
     ]
    },
    {
     "name": "stderr",
     "output_type": "stream",
     "text": [
      "\n",
      " 86%|████████▌ | 80/93 [39:08:22<4:56:04, 1366.51s/it]\u001b[A"
     ]
    },
    {
     "name": "stdout",
     "output_type": "stream",
     "text": [
      "/mnt/disk1/jiaoyimin/fenlei/政治.txt Cut words\n",
      "/mnt/disk1/jiaoyimin/fenlei/政治.txt Done Cut\n"
     ]
    },
    {
     "name": "stderr",
     "output_type": "stream",
     "text": [
      "\n",
      " 87%|████████▋ | 81/93 [39:21:27<3:58:26, 1192.20s/it]\u001b[A"
     ]
    },
    {
     "name": "stdout",
     "output_type": "stream",
     "text": [
      "/mnt/disk1/jiaoyimin/fenlei/植物保护.txt Cut words\n",
      "/mnt/disk1/jiaoyimin/fenlei/植物保护.txt Done Cut\n"
     ]
    },
    {
     "name": "stderr",
     "output_type": "stream",
     "text": [
      "\n",
      " 88%|████████▊ | 82/93 [39:26:17<2:48:55, 921.37s/it] \u001b[A"
     ]
    },
    {
     "name": "stdout",
     "output_type": "stream",
     "text": [
      "/mnt/disk1/jiaoyimin/fenlei/医药卫生总论.txt Cut words\n",
      "/mnt/disk1/jiaoyimin/fenlei/医药卫生总论.txt Done Cut\n"
     ]
    },
    {
     "name": "stderr",
     "output_type": "stream",
     "text": [
      "\n",
      " 89%|████████▉ | 83/93 [43:21:06<13:31:57, 4871.79s/it]\u001b[A"
     ]
    },
    {
     "name": "stdout",
     "output_type": "stream",
     "text": [
      "/mnt/disk1/jiaoyimin/fenlei/中学生教育.txt Cut words\n",
      "/mnt/disk1/jiaoyimin/fenlei/中学生教育.txt Done Cut\n"
     ]
    },
    {
     "name": "stderr",
     "output_type": "stream",
     "text": [
      "\n",
      " 90%|█████████ | 84/93 [43:23:32<8:38:06, 3454.06s/it] \u001b[A"
     ]
    },
    {
     "name": "stdout",
     "output_type": "stream",
     "text": [
      "/mnt/disk1/jiaoyimin/fenlei/肿瘤学.txt Cut words\n",
      "/mnt/disk1/jiaoyimin/fenlei/肿瘤学.txt Done Cut\n"
     ]
    },
    {
     "name": "stderr",
     "output_type": "stream",
     "text": [
      "\n",
      " 91%|█████████▏| 85/93 [43:50:17<6:26:34, 2899.36s/it]\u001b[A"
     ]
    },
    {
     "name": "stdout",
     "output_type": "stream",
     "text": [
      "/mnt/disk1/jiaoyimin/fenlei/宗教.txt Cut words\n",
      "/mnt/disk1/jiaoyimin/fenlei/宗教.txt Done Cut\n"
     ]
    },
    {
     "name": "stderr",
     "output_type": "stream",
     "text": [
      "\n",
      " 92%|█████████▏| 86/93 [43:51:55<4:00:12, 2058.92s/it]\u001b[A"
     ]
    },
    {
     "name": "stdout",
     "output_type": "stream",
     "text": [
      "/mnt/disk1/jiaoyimin/fenlei/自动化技术与计算机技术.txt Cut words\n",
      "/mnt/disk1/jiaoyimin/fenlei/自动化技术与计算机技术.txt Done Cut\n"
     ]
    },
    {
     "name": "stderr",
     "output_type": "stream",
     "text": [
      "\n",
      " 94%|█████████▎| 87/93 [45:00:30<4:27:33, 2675.61s/it]\u001b[A"
     ]
    },
    {
     "name": "stdout",
     "output_type": "stream",
     "text": [
      "/mnt/disk1/jiaoyimin/fenlei/大学学报(教科文艺).txt Cut words\n",
      "/mnt/disk1/jiaoyimin/fenlei/大学学报(教科文艺).txt Done Cut\n"
     ]
    },
    {
     "name": "stderr",
     "output_type": "stream",
     "text": [
      "\n",
      " 95%|█████████▍| 88/93 [46:40:16<5:05:43, 3668.75s/it]\u001b[A"
     ]
    },
    {
     "name": "stdout",
     "output_type": "stream",
     "text": [
      "/mnt/disk1/jiaoyimin/fenlei/大学学报(社会科学).txt Cut words\n",
      "/mnt/disk1/jiaoyimin/fenlei/大学学报(社会科学).txt Done Cut\n"
     ]
    },
    {
     "name": "stderr",
     "output_type": "stream",
     "text": [
      "\n",
      " 96%|█████████▌| 89/93 [47:50:46<4:15:48, 3837.25s/it]\u001b[A"
     ]
    },
    {
     "name": "stdout",
     "output_type": "stream",
     "text": [
      "/mnt/disk1/jiaoyimin/fenlei/大学学报(医药卫生).txt Cut words\n",
      "/mnt/disk1/jiaoyimin/fenlei/大学学报(医药卫生).txt Done Cut\n"
     ]
    },
    {
     "name": "stderr",
     "output_type": "stream",
     "text": [
      "\n",
      " 97%|█████████▋| 90/93 [49:23:49<3:38:03, 4361.00s/it]\u001b[A"
     ]
    },
    {
     "name": "stdout",
     "output_type": "stream",
     "text": [
      "/mnt/disk1/jiaoyimin/fenlei/大学学报(哲学政法).txt Cut words\n",
      "/mnt/disk1/jiaoyimin/fenlei/大学学报(哲学政法).txt Done Cut\n"
     ]
    },
    {
     "name": "stderr",
     "output_type": "stream",
     "text": [
      "\n",
      " 98%|█████████▊| 91/93 [49:46:33<1:55:23, 3461.89s/it]\u001b[A"
     ]
    },
    {
     "name": "stdout",
     "output_type": "stream",
     "text": [
      "/mnt/disk1/jiaoyimin/fenlei/大学学报(自然科学).txt Cut words\n",
      "/mnt/disk1/jiaoyimin/fenlei/大学学报(自然科学).txt Done Cut\n"
     ]
    },
    {
     "name": "stderr",
     "output_type": "stream",
     "text": [
      "\n",
      " 99%|█████████▉| 92/93 [51:01:38<1:02:54, 3774.79s/it]\u001b[A"
     ]
    },
    {
     "name": "stdout",
     "output_type": "stream",
     "text": [
      "/mnt/disk1/jiaoyimin/fenlei/环境科学与安全科学.txt Cut words\n",
      "/mnt/disk1/jiaoyimin/fenlei/环境科学与安全科学.txt Done Cut\n"
     ]
    },
    {
     "name": "stderr",
     "output_type": "stream",
     "text": [
      "\n",
      "100%|██████████| 93/93 [51:36:47<00:00, 1997.93s/it]  \u001b[A\n"
     ]
    }
   ],
   "source": [
    "\n",
    "for txt_fn in tqdm(task_list):\n",
    "    print(txt_fn,'Cut words')\n",
    "    #file = open(txt_fn,'r')\n",
    "    fW = load_data(txt_fn,stopwords)\n",
    "    #for line in file:\n",
    "        #word_list = [x for x in jieba.cut(line.strip(), cut_all=False) if x not in stopwords]     \n",
    "        #tuples4 = generate_ntuple(word_list, 4)\n",
    "    print(txt_fn,'Done Cut')\n",
    "    for jieba_content in fW:\n",
    "        tuples4 = generate_ntuple(jieba_content, 4)\n",
    "        tuple4 = dict(Counter(list(tuples4)))\n",
    "    \n",
    "        all_2tuple = dict()\n",
    "        all_3tuple = dict()\n",
    "        all_1tuple = dict()\n",
    "        all_4tuple = dict()\n",
    "        for key,value in tuple4.items():\n",
    "            if len(key)==2:\n",
    "                all_2tuple[key]=value\n",
    "            #if len(key)==3:\n",
    "                all_3tuple[key]=value\n",
    "            if len(key)==1:\n",
    "                all_1tuple[key]=value  \n",
    "            if len(key)==4:\n",
    "                all_4tuple[key]=value\n",
    "    \n",
    "    \n",
    "    ###all_tuples.append(all_2tuple)\n",
    "    #all_tuples.append(all_3tuple)\n",
    "    #all_tuples.append(all_4tuple)\n",
    "        total2 = len(all_2tuple)\n",
    "    \n",
    "        result = defaultdict(dict)\n",
    "    #pmi = dict()\n",
    "\n",
    "\n",
    "        for word in all_2tuple:\n",
    "            left0 = word[:1]\n",
    "            left_count0 = all_1tuple[left0]\n",
    "            right0 = word[1:]\n",
    "            right_count0 = all_1tuple[right0]\n",
    "            a0 = math.log(total2*all_2tuple[word] / left_count0 / right_count0)\n",
    "            \n",
    "        #remain.append(word)\n",
    "            result[word]['pmi'] = a0\n",
    "            result[word]['ami'] = a0/(len(word[0])+len(word[1]))\n",
    "            result[word]['freq'] = all_2tuple[word]\n",
    "        #pmi[word] = a0\n",
    "\n",
    "    \n",
    "        final_words = []\n",
    "\n",
    "        mutual_info = {}\n",
    "\n",
    "\n",
    "        for word in all_4tuple:\n",
    "            left = word[0]\n",
    "            right = word[3]\n",
    "            tup = word[1:3]\n",
    "            if tup not in mutual_info:\n",
    "                mutual_info[tup] = {'left':{},'right':{}}\n",
    "            if left not in mutual_info[tup]['left']:\n",
    "                mutual_info[tup]['left'][left] = 0\n",
    "            if right not in mutual_info[tup]['right']:\n",
    "                mutual_info[tup]['right'][right] = 0\n",
    "            mutual_info[tup]['left'][left] += 1\n",
    "            mutual_info[tup]['right'][right] += 1\n",
    "    \n",
    "    \n",
    "        words = []\n",
    "        for word in result.keys():\n",
    "            if word in mutual_info:\n",
    "                left = np.array(list(mutual_info[word]['left'].values()))\n",
    "                right = np.array(list(mutual_info[word]['right'].values()))\n",
    "                ls = info_entropy(left)\n",
    "                rs = info_entropy(right)\n",
    "                ms = ls+rs\n",
    "                words.append(word)\n",
    "                result[word]['entrophy'] = ms\n",
    "                result[word]['score'] = result[word]['entrophy']+result[word]['ami']\n",
    "            if word not in mutual_info:\n",
    "                result[word]['entrophy'] = 0\n",
    "                result[word]['score'] = 0\n",
    "\n",
    "        for key,values in result.items():\n",
    "            #finalresult.append([key,values['pmi'],values['ami'],values['entrophy'], values['freq'] , values['score']])\n",
    "        #df = pd.DataFrame(finalresult,columns = ['key','pmi','ami','entrophy','freq','score'])\n",
    "        #df = df[(df['entrophy']>1)&(df['pmi']>3)&(df['ami']>0.5)&(df['score']>2)]\n",
    "        #df0 = df0.append(df)\n",
    "        #发现此处dataframe合并的操作非常费时，改为直接输出词\n",
    "            if values['pmi']>3 and values['ami']>0.5 and values['entrophy']>1 and values['score']>2:#此处阈值是根据一个500M的样本粗略设定的\n",
    "                f = open('/mnt/disk1/jiaoyimin/result_1/'+txt_fn.split('/')[-1],'a+')\n",
    "                if (key[0] not in stopwords1) and (key[1] not in stopwords1) and (not key[0].isdigit()) and (not key[1].isdigit()):#输出。若词组构成部分有停用词，删去\n",
    "                    if (not key[0].isspace()) and (not key[1].isspace()):\n",
    "                        f.write(key[0]+key[1]+'\\r\\n')\n",
    "                    \n",
    "    #with open('/mnt/disk1/jiaoyimin/result_1/'+txt_fn.split('/')[-1],'r') as f:\n",
    "       #x = f.read().splitlines()\n",
    "    #dict0=dict(Counter(list(x)))#合并相同词并重新输出\n",
    "    #f =  open('/mnt/disk1/jiaoyimin/result1_1/'+txt_fn.split('/')[-1],'a+') \n",
    "    #for key in dict0:\n",
    "        #if ContainChinese(word):\n",
    "            #f.write(key+'\\r\\n')\n",
    "\n"
   ]
  },
  {
   "cell_type": "code",
   "execution_count": 3,
   "metadata": {},
   "outputs": [],
   "source": [
    "task_list = glob.glob('/mnt/disk1/jiaoyimin/result_1/*.txt')"
   ]
  },
  {
   "cell_type": "code",
   "execution_count": 7,
   "metadata": {},
   "outputs": [
    {
     "name": "stderr",
     "output_type": "stream",
     "text": [
      "100%|██████████| 93/93 [00:21<00:00,  4.38it/s]\n"
     ]
    }
   ],
   "source": [
    "for txt_file in tqdm(task_list):\n",
    "    f = open(txt_file,'r')\n",
    "    x = f.read().splitlines()\n",
    "    dict0=dict(Counter(list(x)))#合并相同词并重新输出\n",
    "    file =  open('/mnt/disk1/jiaoyimin/result_1_1/'+txt_file.split('/')[-1],'a+')\n",
    "    for word in dict0:\n",
    "        if ContainChinese(word):\n",
    "            file.write(word+'\\r\\n')\n",
    "            "
   ]
  },
  {
   "cell_type": "code",
   "execution_count": null,
   "metadata": {},
   "outputs": [],
   "source": []
  },
  {
   "cell_type": "code",
   "execution_count": 41,
   "metadata": {},
   "outputs": [
    {
     "name": "stderr",
     "output_type": "stream",
     "text": [
      "1749207it [5:03:16, 96.13it/s] \n"
     ]
    }
   ],
   "source": [
    "#如果医药卫生总论.txt内存不够\n",
    "    file = open('/mnt/disk1/jiaoyimin/fenlei/医药卫生总论.txt','r')\n",
    "    for line in tqdm(file):\n",
    "        word_list = [x for x in jieba.cut(line.strip(), cut_all=False) if x not in stopwords]     \n",
    "        tuples4 = generate_ntuple(word_list, 4)\n",
    "        tuple4 = dict(Counter(list(tuples4)))\n",
    "    \n",
    "        all_2tuple = dict()\n",
    "        all_3tuple = dict()\n",
    "        all_1tuple = dict()\n",
    "        all_4tuple = dict()\n",
    "        for key,value in tuple4.items():\n",
    "            if len(key)==2:\n",
    "                all_2tuple[key]=value\n",
    "            if len(key)==3:\n",
    "                all_3tuple[key]=value\n",
    "            if len(key)==1:\n",
    "                all_1tuple[key]=value  \n",
    "            if len(key)==4:\n",
    "                all_4tuple[key]=value\n",
    "    \n",
    "    \n",
    "    ###all_tuples.append(all_2tuple)\n",
    "    #all_tuples.append(all_3tuple)\n",
    "    #all_tuples.append(all_4tuple)\n",
    "        total2 = len(all_2tuple)\n",
    "    \n",
    "        result = defaultdict(dict)\n",
    "    #pmi = dict()\n",
    "\n",
    "\n",
    "        for word in all_2tuple:\n",
    "            left0 = word[:1]\n",
    "            left_count0 = all_1tuple[left0]\n",
    "            right0 = word[1:]\n",
    "            right_count0 = all_1tuple[right0]\n",
    "            a0 = math.log(total2*all_2tuple[word] / left_count0 / right_count0)\n",
    "            \n",
    "        #remain.append(word)\n",
    "            result[word]['pmi'] = a0\n",
    "            result[word]['ami'] = a0/(len(word[0])+len(word[1]))\n",
    "            result[word]['freq'] = all_2tuple[word]\n",
    "        #pmi[word] = a0\n",
    "\n",
    "    \n",
    "        final_words = []\n",
    "\n",
    "        mutual_info = {}\n",
    "\n",
    "\n",
    "        for word in all_4tuple:\n",
    "            left = word[0]\n",
    "            right = word[3]\n",
    "            tup = word[1:3]\n",
    "            if tup not in mutual_info:\n",
    "                mutual_info[tup] = {'left':{},'right':{}}\n",
    "            if left not in mutual_info[tup]['left']:\n",
    "                mutual_info[tup]['left'][left] = 0\n",
    "            if right not in mutual_info[tup]['right']:\n",
    "                mutual_info[tup]['right'][right] = 0\n",
    "            mutual_info[tup]['left'][left] += 1\n",
    "            mutual_info[tup]['right'][right] += 1\n",
    "    \n",
    "    \n",
    "        words = []\n",
    "        for word in result.keys():\n",
    "            if word in mutual_info:\n",
    "                left = np.array(list(mutual_info[word]['left'].values()))\n",
    "                right = np.array(list(mutual_info[word]['right'].values()))\n",
    "                ls = info_entropy(left)\n",
    "                rs = info_entropy(right)\n",
    "                ms = ls+rs\n",
    "                words.append(word)\n",
    "                result[word]['entrophy'] = ms\n",
    "                result[word]['score'] = result[word]['entrophy']+result[word]['ami']\n",
    "            if word not in mutual_info:\n",
    "                result[word]['entrophy'] = 0\n",
    "                result[word]['score'] = 0\n",
    "        final_words = final_words + words\n",
    "        finalresult = []\n",
    "        for key,values in result.items():\n",
    "            #finalresult.append([key,values['pmi'],values['ami'],values['entrophy'], values['freq'] , values['score']])\n",
    "        #df = pd.DataFrame(finalresult,columns = ['key','pmi','ami','entrophy','freq','score'])\n",
    "        #df = df[(df['entrophy']>1)&(df['pmi']>3)&(df['ami']>0.5)&(df['score']>2)]\n",
    "        #df0 = df0.append(df)\n",
    "        #发现此处dataframe合并的操作非常费时，改为直接输出词，但这样没法看分数了：\n",
    "            if values['pmi']>3 and values['ami']>0.5 and values['entrophy']>1 and values['score']>2:#此处阈值是根据一个500M的样本粗略设定的\n",
    "                f = open('/mnt/disk1/jiaoyimin/result/医药卫生总论.txt','a+')\n",
    "                if (key[0] not in stopwords1) and (key[1] not in stopwords1) and (not key[0].isdigit()) and (not key[1].isdigit()):#输出。若词组构成部分有停用词，删去（问题：非个位数字删不了）\n",
    "                    f.write(key[0]+key[1]+'\\r\\n')\n",
    "   \n",
    "    with open('/mnt/disk1/jiaoyimin/result/医药卫生总论.txt','r') as f:\n",
    "        x = f.read().splitlines()\n",
    "    dict0=dict(Counter(list(x)))#合并相同词并重新输出\n",
    "    f =  open('/mnt/disk1/jiaoyimin/result1/医药卫生总论.txt','a+') \n",
    "    for key in dict0:\n",
    "        if ContainChinese(word):\n",
    "            f.write(key+'\\r\\n')\n"
   ]
  },
  {
   "cell_type": "code",
   "execution_count": 55,
   "metadata": {},
   "outputs": [],
   "source": []
  },
  {
   "cell_type": "code",
   "execution_count": null,
   "metadata": {},
   "outputs": [],
   "source": []
  }
 ],
 "metadata": {
  "kernelspec": {
   "display_name": "Python 3",
   "language": "python",
   "name": "python3"
  },
  "language_info": {
   "codemirror_mode": {
    "name": "ipython",
    "version": 3
   },
   "file_extension": ".py",
   "mimetype": "text/x-python",
   "name": "python",
   "nbconvert_exporter": "python",
   "pygments_lexer": "ipython3",
   "version": "3.7.4"
  }
 },
 "nbformat": 4,
 "nbformat_minor": 2
}
